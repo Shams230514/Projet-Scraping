{
  "nbformat": 4,
  "nbformat_minor": 0,
  "metadata": {
    "colab": {
      "name": "Projet web scrapping.ipynb",
      "provenance": [],
      "collapsed_sections": []
    },
    "kernelspec": {
      "name": "python3",
      "display_name": "Python 3"
    },
    "language_info": {
      "name": "python"
    }
  },
  "cells": [
    {
      "cell_type": "code",
      "metadata": {
        "id": "rmgM_rDpeD7C"
      },
      "source": [
        ""
      ],
      "execution_count": 1,
      "outputs": []
    },
    {
      "cell_type": "markdown",
      "metadata": {
        "id": "DS12OjD5sOrh"
      },
      "source": [
        "#                                                            Projet final : Web scrapping\n"
      ]
    },
    {
      "cell_type": "markdown",
      "metadata": {
        "id": "3vj1rIyssfbc"
      },
      "source": [
        "**Présentation du projet**"
      ]
    },
    {
      "cell_type": "markdown",
      "metadata": {
        "id": "IJhNziiTsfR3"
      },
      "source": [
        "sujet 16 : création d'un ensemble de données de jeux vidéo populaires ou tendance \n",
        "plateforme de référence : steam\n",
        "lien de la pateforme : "
      ]
    },
    {
      "cell_type": "markdown",
      "metadata": {
        "id": "VlvHuIWr1JZy"
      },
      "source": [
        "Membres du groupe:\n",
        "\n",
        "1.   Ibrahima CAMARA\n",
        "1.   Samsidine DIATTA\n",
        "2.   Abdou Karim SOW"
      ]
    },
    {
      "cell_type": "markdown",
      "metadata": {
        "id": "O_kVNnpXhRru"
      },
      "source": [
        "**Installation et imporatation des librairies à utiliser**"
      ]
    },
    {
      "cell_type": "code",
      "metadata": {
        "colab": {
          "base_uri": "https://localhost:8080/",
          "height": 0
        },
        "id": "iF-b95J6scIp",
        "outputId": "7011b4fe-3c3d-44cf-c708-c7e1e19bb659"
      },
      "source": [
        "#Installation de la librairie \"requests\" pour le téléchargement de pages web\n",
        "!pip install requests --upgrade --quiet"
      ],
      "execution_count": 2,
      "outputs": [
        {
          "output_type": "stream",
          "name": "stdout",
          "text": [
            "\u001b[?25l\r\u001b[K     |█████▎                          | 10 kB 25.6 MB/s eta 0:00:01\r\u001b[K     |██████████▌                     | 20 kB 29.8 MB/s eta 0:00:01\r\u001b[K     |███████████████▉                | 30 kB 32.0 MB/s eta 0:00:01\r\u001b[K     |█████████████████████           | 40 kB 33.0 MB/s eta 0:00:01\r\u001b[K     |██████████████████████████▎     | 51 kB 35.8 MB/s eta 0:00:01\r\u001b[K     |███████████████████████████████▋| 61 kB 31.8 MB/s eta 0:00:01\r\u001b[K     |████████████████████████████████| 62 kB 815 kB/s \n",
            "\u001b[31mERROR: pip's dependency resolver does not currently take into account all the packages that are installed. This behaviour is the source of the following dependency conflicts.\n",
            "google-colab 1.0.0 requires requests~=2.23.0, but you have requests 2.26.0 which is incompatible.\n",
            "datascience 0.10.6 requires folium==0.2.1, but you have folium 0.8.3 which is incompatible.\u001b[0m\n",
            "\u001b[?25h"
          ]
        }
      ]
    },
    {
      "cell_type": "code",
      "metadata": {
        "colab": {
          "base_uri": "https://localhost:8080/",
          "height": 0
        },
        "id": "9vt9Gpdwfj_J",
        "outputId": "b0365ab8-d682-403d-f218-0fd0b63399cd"
      },
      "source": [
        "#Installation de la librairie \"beautifulsoup4\" pour l'extraction de données dans une page web\n",
        "!pip install beautifulsoup4 --upgrade --quiet"
      ],
      "execution_count": 3,
      "outputs": [
        {
          "output_type": "stream",
          "name": "stdout",
          "text": [
            "\u001b[?25l\r\u001b[K     |███▍                            | 10 kB 24.4 MB/s eta 0:00:01\r\u001b[K     |██████▊                         | 20 kB 26.8 MB/s eta 0:00:01\r\u001b[K     |██████████                      | 30 kB 31.6 MB/s eta 0:00:01\r\u001b[K     |█████████████▌                  | 40 kB 23.1 MB/s eta 0:00:01\r\u001b[K     |████████████████▉               | 51 kB 20.5 MB/s eta 0:00:01\r\u001b[K     |████████████████████▏           | 61 kB 22.5 MB/s eta 0:00:01\r\u001b[K     |███████████████████████▌        | 71 kB 22.3 MB/s eta 0:00:01\r\u001b[K     |███████████████████████████     | 81 kB 24.1 MB/s eta 0:00:01\r\u001b[K     |██████████████████████████████▎ | 92 kB 25.2 MB/s eta 0:00:01\r\u001b[K     |████████████████████████████████| 97 kB 5.8 MB/s \n",
            "\u001b[?25h"
          ]
        }
      ]
    },
    {
      "cell_type": "code",
      "metadata": {
        "id": "zkKtOhk6_dBV"
      },
      "source": [
        "#Importation de la librairie \"requests\"\n",
        "import requests"
      ],
      "execution_count": 4,
      "outputs": []
    },
    {
      "cell_type": "code",
      "metadata": {
        "id": "IegGx7prgiQ0"
      },
      "source": [
        "#Importation de la librairie \"bs4\"\n",
        "from bs4 import BeautifulSoup"
      ],
      "execution_count": 5,
      "outputs": []
    },
    {
      "cell_type": "code",
      "metadata": {
        "id": "SrddmB99jo6B"
      },
      "source": [
        "import pandas as pd"
      ],
      "execution_count": 6,
      "outputs": []
    },
    {
      "cell_type": "markdown",
      "metadata": {
        "id": "s7fvQHu7KHvw"
      },
      "source": [
        ""
      ]
    },
    {
      "cell_type": "markdown",
      "metadata": {
        "id": "-Wyg0fjfKIMd"
      },
      "source": [
        "**Définition des fonctions à utiliser**"
      ]
    },
    {
      "cell_type": "code",
      "metadata": {
        "id": "WFFyY1hoAD54"
      },
      "source": [
        "#Création de la fonction permettant de télécharger le contenu d'une page web\n",
        "def telechargerPage(lien):\n",
        "  '''\n",
        "    Objectif : télécharger la page web correspondant au lien indiqué\n",
        "    Méthode : Utilisation des méthodes de la librarie <requests>\n",
        "    Entrées : url de la page (string)\n",
        "    sortie : contenu de la page web (tableau de string)\n",
        "  '''\n",
        "  reponse = requests.get(lien)\n",
        "  if reponse.status_code >= 200 and reponse.status_code < 300 : \n",
        "    print(f\"La page web à été téléchargée avec succés !\\n\")\n",
        "    contenu = reponse.text\n",
        "    return contenu\n",
        "  else : \n",
        "    print(f\"Echec du téléchargement de la page correspondant à ce lien '{lien}'\\n vérifier si le lien entré est valide !\")\n",
        "    print(f\"Status_code : {reponse.status_code}\")\n"
      ],
      "execution_count": 7,
      "outputs": []
    },
    {
      "cell_type": "code",
      "metadata": {
        "id": "wC8CEDMXTTCn"
      },
      "source": [
        "# Création d'une procédure permettant d'enregistrer le contenu d'une page dans un fichier.html\n",
        "def ecrireFichier(nomFichier, contenu) :\n",
        "  '''\n",
        "    Objectif : écrire le contenu d'une page web correspondant au lien indiqué dans un fichier html\n",
        "    Méthode : écriture sur fichier et Utilisation de la fonction de téléchargement de page web\n",
        "    Entrées : nom du fichier(string) sans son extension et le contenu de la page (string)\n",
        "    sortie : pas de sortie\n",
        "    Résultat : création d'un fichier html de la page web indiquée à l'instant t\n",
        "  ''' \n",
        "  \n",
        "  with open(nomFichier+\".html\", 'w', encoding='utf-8') as file : \n",
        "    file.write(contenu)\n",
        "  print(\"l'écriture du fichier s'est déroulé sans accroc !\")\n"
      ],
      "execution_count": 8,
      "outputs": []
    },
    {
      "cell_type": "code",
      "metadata": {
        "id": "JlNWGRkY7Wqn"
      },
      "source": [
        "# Création d'une fonction permettant de créer  un objet beautifoulSoup \n",
        "#pour préparer l'extraction des données\n",
        "def creerObjetBs4(nomFichier) : \n",
        "  '''\n",
        "    Objectif : écrire le contenu d'une page web correspondant au lien indiqué dans un fichier html\n",
        "    Méthode : écriture sur fichier\n",
        "    Entrées : nom du fichier html (string) avec son extension \".html\"\n",
        "    sortie : objet bs4.BeautifoulSoup pour une éventuelle extraction de données\n",
        "\n",
        "  '''\n",
        "  with open(nomFichier, 'r') as file:\n",
        "    source = file.read()\n",
        "    ObjetBs4 = BeautifulSoup(source, 'html.parser')\n",
        "    return ObjetBs4"
      ],
      "execution_count": 9,
      "outputs": []
    },
    {
      "cell_type": "markdown",
      "metadata": {
        "id": "XYg5PxGFqUbu"
      },
      "source": [
        "Début de scrapping de la plateforme steam"
      ]
    },
    {
      "cell_type": "code",
      "metadata": {
        "id": "mP0bAUpcK-i8"
      },
      "source": [
        "# consignation dans des variables, des noms et adresse de la plateformes steam\n",
        "lienWeb = \"https://store.steampowered.com/stats/?l=french\"\n",
        "nomSiteWeb = \"Steam\" "
      ],
      "execution_count": 10,
      "outputs": []
    },
    {
      "cell_type": "code",
      "metadata": {
        "colab": {
          "base_uri": "https://localhost:8080/",
          "height": 0
        },
        "id": "35t7ipksHwr0",
        "outputId": "24885ab9-5c38-4b31-c430-285657e6b1c4"
      },
      "source": [
        "# téléchargement du contenu de la page steam dans la variable page\n",
        "page = telechargerPage(lienWeb)"
      ],
      "execution_count": 11,
      "outputs": [
        {
          "output_type": "stream",
          "name": "stdout",
          "text": [
            "La page web à été téléchargée avec succés !\n",
            "\n"
          ]
        }
      ]
    },
    {
      "cell_type": "code",
      "metadata": {
        "colab": {
          "base_uri": "https://localhost:8080/",
          "height": 0
        },
        "id": "DVCl64FyH6Hj",
        "outputId": "2e73fa34-17ad-4456-b611-d2f76fe7cebd"
      },
      "source": [
        "# écriture du contenu de la page web dans un fichier html nommé <base file>\n",
        "ecrireFichier(\"base_file\", page)"
      ],
      "execution_count": 12,
      "outputs": [
        {
          "output_type": "stream",
          "name": "stdout",
          "text": [
            "l'écriture du fichier s'est déroulé sans accroc !\n"
          ]
        }
      ]
    },
    {
      "cell_type": "code",
      "metadata": {
        "id": "E9DzIvnAISC9"
      },
      "source": [
        "# Création d'un objet BeautifulSoup à partir du fichier html pour une extraction de données\n",
        "bs4_objet = creerObjetBs4(\"base_file.html\")"
      ],
      "execution_count": 13,
      "outputs": []
    },
    {
      "cell_type": "code",
      "metadata": {
        "id": "Iro2f449Ndiq"
      },
      "source": [
        "# Recensement de tous les cent premiers liens des jeux tendances et populaires sur steam\n",
        "popular_game_link = bs4_objet.find_all(class_=\"gameLink\")"
      ],
      "execution_count": 14,
      "outputs": []
    },
    {
      "cell_type": "code",
      "metadata": {
        "id": "ERma-zzoNpuw",
        "colab": {
          "base_uri": "https://localhost:8080/",
          "height": 0
        },
        "outputId": "7a05210c-67b2-4337-906d-9547a83cbb2f"
      },
      "source": [
        "popular_game_link"
      ],
      "execution_count": 15,
      "outputs": [
        {
          "output_type": "execute_result",
          "data": {
            "text/plain": [
              "[<a class=\"gameLink\" href=\"https://store.steampowered.com/app/730/CounterStrike_Global_Offensive/\" onmouseout=\"HideGameHover( this, event, 'global_hover' )\" onmouseover=\"GameHover( this, event, 'global_hover', {&quot;type&quot;:&quot;app&quot;,&quot;id&quot;:730,&quot;public&quot;:1,&quot;v6&quot;:1} );\">Counter-Strike: Global Offensive</a>,\n",
              " <a class=\"gameLink\" href=\"https://store.steampowered.com/app/570/Dota_2/\" onmouseout=\"HideGameHover( this, event, 'global_hover' )\" onmouseover=\"GameHover( this, event, 'global_hover', {&quot;type&quot;:&quot;app&quot;,&quot;id&quot;:570,&quot;public&quot;:1,&quot;v6&quot;:1} );\">Dota 2</a>,\n",
              " <a class=\"gameLink\" href=\"https://store.steampowered.com/app/578080/PUBG_BATTLEGROUNDS/\" onmouseout=\"HideGameHover( this, event, 'global_hover' )\" onmouseover=\"GameHover( this, event, 'global_hover', {&quot;type&quot;:&quot;app&quot;,&quot;id&quot;:578080,&quot;public&quot;:1,&quot;v6&quot;:1} );\">PUBG: BATTLEGROUNDS</a>,\n",
              " <a class=\"gameLink\" href=\"https://store.steampowered.com/app/1172470/Apex_Legends/\" onmouseout=\"HideGameHover( this, event, 'global_hover' )\" onmouseover=\"GameHover( this, event, 'global_hover', {&quot;type&quot;:&quot;app&quot;,&quot;id&quot;:1172470,&quot;public&quot;:1,&quot;v6&quot;:1} );\">Apex Legends</a>,\n",
              " <a class=\"gameLink\" href=\"https://store.steampowered.com/app/1063730/New_World/\" onmouseout=\"HideGameHover( this, event, 'global_hover' )\" onmouseover=\"GameHover( this, event, 'global_hover', {&quot;type&quot;:&quot;app&quot;,&quot;id&quot;:1063730,&quot;public&quot;:1,&quot;v6&quot;:1} );\">New World</a>,\n",
              " <a class=\"gameLink\" href=\"https://store.steampowered.com/app/440/Team_Fortress_2/\" onmouseout=\"HideGameHover( this, event, 'global_hover' )\" onmouseover=\"GameHover( this, event, 'global_hover', {&quot;type&quot;:&quot;app&quot;,&quot;id&quot;:440,&quot;public&quot;:1,&quot;v6&quot;:1} );\">Team Fortress 2</a>,\n",
              " <a class=\"gameLink\" href=\"https://store.steampowered.com/app/271590/Grand_Theft_Auto_V/\" onmouseout=\"HideGameHover( this, event, 'global_hover' )\" onmouseover=\"GameHover( this, event, 'global_hover', {&quot;type&quot;:&quot;app&quot;,&quot;id&quot;:271590,&quot;public&quot;:1,&quot;v6&quot;:1} );\">Grand Theft Auto V</a>,\n",
              " <a class=\"gameLink\" href=\"https://store.steampowered.com/app/1623660/MIR4/\" onmouseout=\"HideGameHover( this, event, 'global_hover' )\" onmouseover=\"GameHover( this, event, 'global_hover', {&quot;type&quot;:&quot;app&quot;,&quot;id&quot;:1623660,&quot;public&quot;:1,&quot;v6&quot;:1} );\">MIR4</a>,\n",
              " <a class=\"gameLink\" href=\"https://store.steampowered.com/app/1203220/NARAKA_BLADEPOINT/\" onmouseout=\"HideGameHover( this, event, 'global_hover' )\" onmouseover=\"GameHover( this, event, 'global_hover', {&quot;type&quot;:&quot;app&quot;,&quot;id&quot;:1203220,&quot;public&quot;:1,&quot;v6&quot;:1} );\">NARAKA: BLADEPOINT</a>,\n",
              " <a class=\"gameLink\" href=\"https://store.steampowered.com/app/252490/Rust/\" onmouseout=\"HideGameHover( this, event, 'global_hover' )\" onmouseover=\"GameHover( this, event, 'global_hover', {&quot;type&quot;:&quot;app&quot;,&quot;id&quot;:252490,&quot;public&quot;:1,&quot;v6&quot;:1} );\">Rust</a>,\n",
              " <a class=\"gameLink\" href=\"https://store.steampowered.com/app/431960/Wallpaper_Engine/\" onmouseout=\"HideGameHover( this, event, 'global_hover' )\" onmouseover=\"GameHover( this, event, 'global_hover', {&quot;type&quot;:&quot;app&quot;,&quot;id&quot;:431960,&quot;public&quot;:1,&quot;v6&quot;:1} );\">Wallpaper Engine</a>,\n",
              " <a class=\"gameLink\" href=\"https://store.steampowered.com/app/230410/Warframe/\" onmouseout=\"HideGameHover( this, event, 'global_hover' )\" onmouseover=\"GameHover( this, event, 'global_hover', {&quot;type&quot;:&quot;app&quot;,&quot;id&quot;:230410,&quot;public&quot;:1,&quot;v6&quot;:1} );\">Warframe</a>,\n",
              " <a class=\"gameLink\" href=\"https://store.steampowered.com/app/346110/ARK_Survival_Evolved/\" onmouseout=\"HideGameHover( this, event, 'global_hover' )\" onmouseover=\"GameHover( this, event, 'global_hover', {&quot;type&quot;:&quot;app&quot;,&quot;id&quot;:346110,&quot;public&quot;:1,&quot;v6&quot;:1} );\">ARK: Survival Evolved</a>,\n",
              " <a class=\"gameLink\" href=\"https://store.steampowered.com/app/359550/Tom_Clancys_Rainbow_Six_Siege/\" onmouseout=\"HideGameHover( this, event, 'global_hover' )\" onmouseover=\"GameHover( this, event, 'global_hover', {&quot;type&quot;:&quot;app&quot;,&quot;id&quot;:359550,&quot;public&quot;:1,&quot;v6&quot;:1} );\">Tom Clancy's Rainbow Six Siege</a>,\n",
              " <a class=\"gameLink\" href=\"https://store.steampowered.com/app/381210/Dead_by_Daylight/\" onmouseout=\"HideGameHover( this, event, 'global_hover' )\" onmouseover=\"GameHover( this, event, 'global_hover', {&quot;type&quot;:&quot;app&quot;,&quot;id&quot;:381210,&quot;public&quot;:1,&quot;v6&quot;:1} );\">Dead by Daylight</a>,\n",
              " <a class=\"gameLink\" href=\"https://store.steampowered.com/app/238960/Path_of_Exile/\" onmouseout=\"HideGameHover( this, event, 'global_hover' )\" onmouseover=\"GameHover( this, event, 'global_hover', {&quot;type&quot;:&quot;app&quot;,&quot;id&quot;:238960,&quot;public&quot;:1,&quot;v6&quot;:1} );\">Path of Exile</a>,\n",
              " <a class=\"gameLink\" href=\"https://store.steampowered.com/app/1085660/Destiny_2/\" onmouseout=\"HideGameHover( this, event, 'global_hover' )\" onmouseover=\"GameHover( this, event, 'global_hover', {&quot;type&quot;:&quot;app&quot;,&quot;id&quot;:1085660,&quot;public&quot;:1,&quot;v6&quot;:1} );\">Destiny 2</a>,\n",
              " <a class=\"gameLink\" href=\"https://store.steampowered.com/app/1466860/Age_of_Empires_IV/\" onmouseout=\"HideGameHover( this, event, 'global_hover' )\" onmouseover=\"GameHover( this, event, 'global_hover', {&quot;type&quot;:&quot;app&quot;,&quot;id&quot;:1466860,&quot;public&quot;:1,&quot;v6&quot;:1} );\">Age of Empires IV</a>,\n",
              " <a class=\"gameLink\" href=\"https://store.steampowered.com/app/289070/Sid_Meiers_Civilization_VI/\" onmouseout=\"HideGameHover( this, event, 'global_hover' )\" onmouseover=\"GameHover( this, event, 'global_hover', {&quot;type&quot;:&quot;app&quot;,&quot;id&quot;:289070,&quot;public&quot;:1,&quot;v6&quot;:1} );\">Sid Meier's Civilization VI</a>,\n",
              " <a class=\"gameLink\" href=\"https://store.steampowered.com/app/105600/Terraria/\" onmouseout=\"HideGameHover( this, event, 'global_hover' )\" onmouseover=\"GameHover( this, event, 'global_hover', {&quot;type&quot;:&quot;app&quot;,&quot;id&quot;:105600,&quot;public&quot;:1,&quot;v6&quot;:1} );\">Terraria</a>,\n",
              " <a class=\"gameLink\" href=\"https://store.steampowered.com/app/236390/War_Thunder/\" onmouseout=\"HideGameHover( this, event, 'global_hover' )\" onmouseover=\"GameHover( this, event, 'global_hover', {&quot;type&quot;:&quot;app&quot;,&quot;id&quot;:236390,&quot;public&quot;:1,&quot;v6&quot;:1} );\">War Thunder</a>,\n",
              " <a class=\"gameLink\" href=\"https://store.steampowered.com/app/1238810/Battlefield_V/\" onmouseout=\"HideGameHover( this, event, 'global_hover' )\" onmouseover=\"GameHover( this, event, 'global_hover', {&quot;type&quot;:&quot;app&quot;,&quot;id&quot;:1238810,&quot;public&quot;:1,&quot;v6&quot;:1} );\">Battlefield™ V</a>,\n",
              " <a class=\"gameLink\" href=\"https://store.steampowered.com/app/1569040/Football_Manager_2022/\" onmouseout=\"HideGameHover( this, event, 'global_hover' )\" onmouseover=\"GameHover( this, event, 'global_hover', {&quot;type&quot;:&quot;app&quot;,&quot;id&quot;:1569040,&quot;public&quot;:1,&quot;v6&quot;:1} );\">Football Manager 2022</a>,\n",
              " <a class=\"gameLink\" href=\"https://store.steampowered.com/app/304930/Unturned/\" onmouseout=\"HideGameHover( this, event, 'global_hover' )\" onmouseover=\"GameHover( this, event, 'global_hover', {&quot;type&quot;:&quot;app&quot;,&quot;id&quot;:304930,&quot;public&quot;:1,&quot;v6&quot;:1} );\">Unturned</a>,\n",
              " <a class=\"gameLink\" href=\"https://store.steampowered.com/app/227300/Euro_Truck_Simulator_2/\" onmouseout=\"HideGameHover( this, event, 'global_hover' )\" onmouseover=\"GameHover( this, event, 'global_hover', {&quot;type&quot;:&quot;app&quot;,&quot;id&quot;:227300,&quot;public&quot;:1,&quot;v6&quot;:1} );\">Euro Truck Simulator 2</a>,\n",
              " <a class=\"gameLink\" href=\"https://store.steampowered.com/app/1468810/_Tale_of_Immortal/\" onmouseout=\"HideGameHover( this, event, 'global_hover' )\" onmouseover=\"GameHover( this, event, 'global_hover', {&quot;type&quot;:&quot;app&quot;,&quot;id&quot;:1468810,&quot;public&quot;:1,&quot;v6&quot;:1} );\">鬼谷八荒 Tale of Immortal</a>,\n",
              " <a class=\"gameLink\" href=\"https://store.steampowered.com/app/218620/PAYDAY_2/\" onmouseout=\"HideGameHover( this, event, 'global_hover' )\" onmouseover=\"GameHover( this, event, 'global_hover', {&quot;type&quot;:&quot;app&quot;,&quot;id&quot;:218620,&quot;public&quot;:1,&quot;v6&quot;:1} );\">PAYDAY 2</a>,\n",
              " <a class=\"gameLink\" href=\"https://store.steampowered.com/app/1793660/Bta_technique_ferme_Lost_Ark/\" onmouseout=\"HideGameHover( this, event, 'global_hover' )\" onmouseover=\"GameHover( this, event, 'global_hover', {&quot;type&quot;:&quot;app&quot;,&quot;id&quot;:1793660,&quot;public&quot;:1,&quot;v6&quot;:1} );\">Lost Ark Closed Technical Beta </a>,\n",
              " <a class=\"gameLink\" href=\"https://store.steampowered.com/app/444200/World_of_Tanks_Blitz/\" onmouseout=\"HideGameHover( this, event, 'global_hover' )\" onmouseover=\"GameHover( this, event, 'global_hover', {&quot;type&quot;:&quot;app&quot;,&quot;id&quot;:444200,&quot;public&quot;:1,&quot;v6&quot;:1} );\">World of Tanks Blitz</a>,\n",
              " <a class=\"gameLink\" href=\"https://store.steampowered.com/app/1263850/Football_Manager_2021/\" onmouseout=\"HideGameHover( this, event, 'global_hover' )\" onmouseover=\"GameHover( this, event, 'global_hover', {&quot;type&quot;:&quot;app&quot;,&quot;id&quot;:1263850,&quot;public&quot;:1,&quot;v6&quot;:1} );\">Football Manager 2021</a>,\n",
              " <a class=\"gameLink\" href=\"https://store.steampowered.com/app/1782210/Crab_Game/\" onmouseout=\"HideGameHover( this, event, 'global_hover' )\" onmouseover=\"GameHover( this, event, 'global_hover', {&quot;type&quot;:&quot;app&quot;,&quot;id&quot;:1782210,&quot;public&quot;:1,&quot;v6&quot;:1} );\">Crab Game</a>,\n",
              " <a class=\"gameLink\" href=\"https://store.steampowered.com/app/322330/Dont_Starve_Together/\" onmouseout=\"HideGameHover( this, event, 'global_hover' )\" onmouseover=\"GameHover( this, event, 'global_hover', {&quot;type&quot;:&quot;app&quot;,&quot;id&quot;:322330,&quot;public&quot;:1,&quot;v6&quot;:1} );\">Don't Starve Together</a>,\n",
              " <a class=\"gameLink\" href=\"https://store.steampowered.com/app/394360/Hearts_of_Iron_IV/\" onmouseout=\"HideGameHover( this, event, 'global_hover' )\" onmouseover=\"GameHover( this, event, 'global_hover', {&quot;type&quot;:&quot;app&quot;,&quot;id&quot;:394360,&quot;public&quot;:1,&quot;v6&quot;:1} );\">Hearts of Iron IV</a>,\n",
              " <a class=\"gameLink\" href=\"https://store.steampowered.com/app/221100/DayZ/\" onmouseout=\"HideGameHover( this, event, 'global_hover' )\" onmouseover=\"GameHover( this, event, 'global_hover', {&quot;type&quot;:&quot;app&quot;,&quot;id&quot;:221100,&quot;public&quot;:1,&quot;v6&quot;:1} );\">DayZ</a>,\n",
              " <a class=\"gameLink\" href=\"https://store.steampowered.com/app/548430/Deep_Rock_Galactic/\" onmouseout=\"HideGameHover( this, event, 'global_hover' )\" onmouseover=\"GameHover( this, event, 'global_hover', {&quot;type&quot;:&quot;app&quot;,&quot;id&quot;:548430,&quot;public&quot;:1,&quot;v6&quot;:1} );\">Deep Rock Galactic</a>,\n",
              " <a class=\"gameLink\" href=\"https://store.steampowered.com/app/1454400/Cookie_Clicker/\" onmouseout=\"HideGameHover( this, event, 'global_hover' )\" onmouseover=\"GameHover( this, event, 'global_hover', {&quot;type&quot;:&quot;app&quot;,&quot;id&quot;:1454400,&quot;public&quot;:1,&quot;v6&quot;:1} );\">Cookie Clicker</a>,\n",
              " <a class=\"gameLink\" href=\"https://store.steampowered.com/app/1506830/FIFA_22/\" onmouseout=\"HideGameHover( this, event, 'global_hover' )\" onmouseover=\"GameHover( this, event, 'global_hover', {&quot;type&quot;:&quot;app&quot;,&quot;id&quot;:1506830,&quot;public&quot;:1,&quot;v6&quot;:1} );\">FIFA 22</a>,\n",
              " <a class=\"gameLink\" href=\"https://store.steampowered.com/app/582010/Monster_Hunter_World/\" onmouseout=\"HideGameHover( this, event, 'global_hover' )\" onmouseover=\"GameHover( this, event, 'global_hover', {&quot;type&quot;:&quot;app&quot;,&quot;id&quot;:582010,&quot;public&quot;:1,&quot;v6&quot;:1} );\">Monster Hunter: World</a>,\n",
              " <a class=\"gameLink\" href=\"https://store.steampowered.com/app/413150/Stardew_Valley/\" onmouseout=\"HideGameHover( this, event, 'global_hover' )\" onmouseover=\"GameHover( this, event, 'global_hover', {&quot;type&quot;:&quot;app&quot;,&quot;id&quot;:413150,&quot;public&quot;:1,&quot;v6&quot;:1} );\">Stardew Valley</a>,\n",
              " <a class=\"gameLink\" href=\"https://store.steampowered.com/app/251570/7_Days_to_Die/\" onmouseout=\"HideGameHover( this, event, 'global_hover' )\" onmouseover=\"GameHover( this, event, 'global_hover', {&quot;type&quot;:&quot;app&quot;,&quot;id&quot;:251570,&quot;public&quot;:1,&quot;v6&quot;:1} );\">7 Days to Die</a>,\n",
              " <a class=\"gameLink\" href=\"https://store.steampowered.com/app/292030/The_Witcher_3_Wild_Hunt/\" onmouseout=\"HideGameHover( this, event, 'global_hover' )\" onmouseover=\"GameHover( this, event, 'global_hover', {&quot;type&quot;:&quot;app&quot;,&quot;id&quot;:292030,&quot;public&quot;:1,&quot;v6&quot;:1} );\">The Witcher 3: Wild Hunt</a>,\n",
              " <a class=\"gameLink\" href=\"https://store.steampowered.com/app/550/Left_4_Dead_2/\" onmouseout=\"HideGameHover( this, event, 'global_hover' )\" onmouseover=\"GameHover( this, event, 'global_hover', {&quot;type&quot;:&quot;app&quot;,&quot;id&quot;:550,&quot;public&quot;:1,&quot;v6&quot;:1} );\">Left 4 Dead 2</a>,\n",
              " <a class=\"gameLink\" href=\"https://store.steampowered.com/app/252950/Rocket_League/\" onmouseout=\"HideGameHover( this, event, 'global_hover' )\" onmouseover=\"GameHover( this, event, 'global_hover', {&quot;type&quot;:&quot;app&quot;,&quot;id&quot;:252950,&quot;public&quot;:1,&quot;v6&quot;:1} );\">Rocket League</a>,\n",
              " <a class=\"gameLink\" href=\"https://store.steampowered.com/app/4000/Garrys_Mod/\" onmouseout=\"HideGameHover( this, event, 'global_hover' )\" onmouseover=\"GameHover( this, event, 'global_hover', {&quot;type&quot;:&quot;app&quot;,&quot;id&quot;:4000,&quot;public&quot;:1,&quot;v6&quot;:1} );\">Garry's Mod</a>,\n",
              " <a class=\"gameLink\" href=\"https://steamcommunity.com/app/1329410\">雀魂麻将(MahjongSoul)</a>,\n",
              " <a class=\"gameLink\" href=\"https://store.steampowered.com/app/1174180/Red_Dead_Redemption_2/\" onmouseout=\"HideGameHover( this, event, 'global_hover' )\" onmouseover=\"GameHover( this, event, 'global_hover', {&quot;type&quot;:&quot;app&quot;,&quot;id&quot;:1174180,&quot;public&quot;:1,&quot;v6&quot;:1} );\">Red Dead Redemption 2</a>,\n",
              " <a class=\"gameLink\" href=\"https://store.steampowered.com/app/594570/Total_War_WARHAMMER_II/\" onmouseout=\"HideGameHover( this, event, 'global_hover' )\" onmouseover=\"GameHover( this, event, 'global_hover', {&quot;type&quot;:&quot;app&quot;,&quot;id&quot;:594570,&quot;public&quot;:1,&quot;v6&quot;:1} );\">Total War: WARHAMMER II</a>,\n",
              " <a class=\"gameLink\" href=\"https://store.steampowered.com/app/39210/FINAL_FANTASY_XIV_Online/\" onmouseout=\"HideGameHover( this, event, 'global_hover' )\" onmouseover=\"GameHover( this, event, 'global_hover', {&quot;type&quot;:&quot;app&quot;,&quot;id&quot;:39210,&quot;public&quot;:1,&quot;v6&quot;:1} );\">FINAL FANTASY XIV Online</a>,\n",
              " <a class=\"gameLink\" href=\"https://store.steampowered.com/app/377160/Fallout_4/\" onmouseout=\"HideGameHover( this, event, 'global_hover' )\" onmouseover=\"GameHover( this, event, 'global_hover', {&quot;type&quot;:&quot;app&quot;,&quot;id&quot;:377160,&quot;public&quot;:1,&quot;v6&quot;:1} );\">Fallout 4</a>,\n",
              " <a class=\"gameLink\" href=\"https://steamcommunity.com/app/480\">Spacewar</a>,\n",
              " <a class=\"gameLink\" href=\"https://store.steampowered.com/app/924970/Back_4_Blood/\" onmouseout=\"HideGameHover( this, event, 'global_hover' )\" onmouseover=\"GameHover( this, event, 'global_hover', {&quot;type&quot;:&quot;app&quot;,&quot;id&quot;:924970,&quot;public&quot;:1,&quot;v6&quot;:1} );\">Back 4 Blood</a>,\n",
              " <a class=\"gameLink\" href=\"https://store.steampowered.com/app/489830/The_Elder_Scrolls_V_Skyrim_Special_Edition/\" onmouseout=\"HideGameHover( this, event, 'global_hover' )\" onmouseover=\"GameHover( this, event, 'global_hover', {&quot;type&quot;:&quot;app&quot;,&quot;id&quot;:489830,&quot;public&quot;:1,&quot;v6&quot;:1} );\">The Elder Scrolls V: Skyrim Special Edition</a>,\n",
              " <a class=\"gameLink\" href=\"https://store.steampowered.com/app/582660/Black_Desert/\" onmouseout=\"HideGameHover( this, event, 'global_hover' )\" onmouseover=\"GameHover( this, event, 'global_hover', {&quot;type&quot;:&quot;app&quot;,&quot;id&quot;:582660,&quot;public&quot;:1,&quot;v6&quot;:1} );\">Black Desert</a>,\n",
              " <a class=\"gameLink\" href=\"https://store.steampowered.com/app/787860/Farming_Simulator_19/\" onmouseout=\"HideGameHover( this, event, 'global_hover' )\" onmouseover=\"GameHover( this, event, 'global_hover', {&quot;type&quot;:&quot;app&quot;,&quot;id&quot;:787860,&quot;public&quot;:1,&quot;v6&quot;:1} );\">Farming Simulator 19</a>,\n",
              " <a class=\"gameLink\" href=\"https://store.steampowered.com/app/255710/Cities_Skylines/\" onmouseout=\"HideGameHover( this, event, 'global_hover' )\" onmouseover=\"GameHover( this, event, 'global_hover', {&quot;type&quot;:&quot;app&quot;,&quot;id&quot;:255710,&quot;public&quot;:1,&quot;v6&quot;:1} );\">Cities: Skylines</a>,\n",
              " <a class=\"gameLink\" href=\"https://store.steampowered.com/app/261550/Mount__Blade_II_Bannerlord/\" onmouseout=\"HideGameHover( this, event, 'global_hover' )\" onmouseover=\"GameHover( this, event, 'global_hover', {&quot;type&quot;:&quot;app&quot;,&quot;id&quot;:261550,&quot;public&quot;:1,&quot;v6&quot;:1} );\">Mount &amp; Blade II: Bannerlord</a>,\n",
              " <a class=\"gameLink\" href=\"https://store.steampowered.com/app/294100/RimWorld/\" onmouseout=\"HideGameHover( this, event, 'global_hover' )\" onmouseover=\"GameHover( this, event, 'global_hover', {&quot;type&quot;:&quot;app&quot;,&quot;id&quot;:294100,&quot;public&quot;:1,&quot;v6&quot;:1} );\">RimWorld</a>,\n",
              " <a class=\"gameLink\" href=\"https://store.steampowered.com/app/8930/Sid_Meiers_Civilization_V/\" onmouseout=\"HideGameHover( this, event, 'global_hover' )\" onmouseover=\"GameHover( this, event, 'global_hover', {&quot;type&quot;:&quot;app&quot;,&quot;id&quot;:8930,&quot;public&quot;:1,&quot;v6&quot;:1} );\">Sid Meier's Civilization V</a>,\n",
              " <a class=\"gameLink\" href=\"https://store.steampowered.com/app/813780/Age_of_Empires_II_Definitive_Edition/\" onmouseout=\"HideGameHover( this, event, 'global_hover' )\" onmouseover=\"GameHover( this, event, 'global_hover', {&quot;type&quot;:&quot;app&quot;,&quot;id&quot;:813780,&quot;public&quot;:1,&quot;v6&quot;:1} );\">Age of Empires II: Definitive Edition</a>,\n",
              " <a class=\"gameLink\" href=\"https://store.steampowered.com/app/306130/The_Elder_Scrolls_Online/\" onmouseout=\"HideGameHover( this, event, 'global_hover' )\" onmouseover=\"GameHover( this, event, 'global_hover', {&quot;type&quot;:&quot;app&quot;,&quot;id&quot;:306130,&quot;public&quot;:1,&quot;v6&quot;:1} );\">The Elder Scrolls Online</a>,\n",
              " <a class=\"gameLink\" href=\"https://store.steampowered.com/app/438100/VRChat/\" onmouseout=\"HideGameHover( this, event, 'global_hover' )\" onmouseover=\"GameHover( this, event, 'global_hover', {&quot;type&quot;:&quot;app&quot;,&quot;id&quot;:438100,&quot;public&quot;:1,&quot;v6&quot;:1} );\">VRChat</a>,\n",
              " <a class=\"gameLink\" href=\"https://store.steampowered.com/app/892970/Valheim/\" onmouseout=\"HideGameHover( this, event, 'global_hover' )\" onmouseover=\"GameHover( this, event, 'global_hover', {&quot;type&quot;:&quot;app&quot;,&quot;id&quot;:892970,&quot;public&quot;:1,&quot;v6&quot;:1} );\">Valheim</a>,\n",
              " <a class=\"gameLink\" href=\"https://store.steampowered.com/app/236850/Europa_Universalis_IV/\" onmouseout=\"HideGameHover( this, event, 'global_hover' )\" onmouseover=\"GameHover( this, event, 'global_hover', {&quot;type&quot;:&quot;app&quot;,&quot;id&quot;:236850,&quot;public&quot;:1,&quot;v6&quot;:1} );\">Europa Universalis IV</a>,\n",
              " <a class=\"gameLink\" href=\"https://store.steampowered.com/app/1281930/tModLoader/\" onmouseout=\"HideGameHover( this, event, 'global_hover' )\" onmouseover=\"GameHover( this, event, 'global_hover', {&quot;type&quot;:&quot;app&quot;,&quot;id&quot;:1281930,&quot;public&quot;:1,&quot;v6&quot;:1} );\">tModLoader</a>,\n",
              " <a class=\"gameLink\" href=\"https://store.steampowered.com/app/1644960/NBA_2K22/\" onmouseout=\"HideGameHover( this, event, 'global_hover' )\" onmouseover=\"GameHover( this, event, 'global_hover', {&quot;type&quot;:&quot;app&quot;,&quot;id&quot;:1644960,&quot;public&quot;:1,&quot;v6&quot;:1} );\">NBA 2K22</a>,\n",
              " <a class=\"gameLink\" href=\"https://store.steampowered.com/app/594650/Hunt_Showdown/\" onmouseout=\"HideGameHover( this, event, 'global_hover' )\" onmouseover=\"GameHover( this, event, 'global_hover', {&quot;type&quot;:&quot;app&quot;,&quot;id&quot;:594650,&quot;public&quot;:1,&quot;v6&quot;:1} );\">Hunt: Showdown</a>,\n",
              " <a class=\"gameLink\" href=\"https://store.steampowered.com/app/960090/Bloons_TD_6/\" onmouseout=\"HideGameHover( this, event, 'global_hover' )\" onmouseover=\"GameHover( this, event, 'global_hover', {&quot;type&quot;:&quot;app&quot;,&quot;id&quot;:960090,&quot;public&quot;:1,&quot;v6&quot;:1} );\">Bloons TD 6</a>,\n",
              " <a class=\"gameLink\" href=\"https://store.steampowered.com/app/513710/SCUM/\" onmouseout=\"HideGameHover( this, event, 'global_hover' )\" onmouseover=\"GameHover( this, event, 'global_hover', {&quot;type&quot;:&quot;app&quot;,&quot;id&quot;:513710,&quot;public&quot;:1,&quot;v6&quot;:1} );\">SCUM</a>,\n",
              " <a class=\"gameLink\" href=\"https://store.steampowered.com/app/291550/Brawlhalla/\" onmouseout=\"HideGameHover( this, event, 'global_hover' )\" onmouseover=\"GameHover( this, event, 'global_hover', {&quot;type&quot;:&quot;app&quot;,&quot;id&quot;:291550,&quot;public&quot;:1,&quot;v6&quot;:1} );\">Brawlhalla</a>,\n",
              " <a class=\"gameLink\" href=\"https://store.steampowered.com/app/281990/Stellaris/\" onmouseout=\"HideGameHover( this, event, 'global_hover' )\" onmouseover=\"GameHover( this, event, 'global_hover', {&quot;type&quot;:&quot;app&quot;,&quot;id&quot;:281990,&quot;public&quot;:1,&quot;v6&quot;:1} );\">Stellaris</a>,\n",
              " <a class=\"gameLink\" href=\"https://store.steampowered.com/app/739630/Phasmophobia/\" onmouseout=\"HideGameHover( this, event, 'global_hover' )\" onmouseover=\"GameHover( this, event, 'global_hover', {&quot;type&quot;:&quot;app&quot;,&quot;id&quot;:739630,&quot;public&quot;:1,&quot;v6&quot;:1} );\">Phasmophobia</a>,\n",
              " <a class=\"gameLink\" href=\"https://store.steampowered.com/app/250900/The_Binding_of_Isaac_Rebirth/\" onmouseout=\"HideGameHover( this, event, 'global_hover' )\" onmouseover=\"GameHover( this, event, 'global_hover', {&quot;type&quot;:&quot;app&quot;,&quot;id&quot;:250900,&quot;public&quot;:1,&quot;v6&quot;:1} );\">The Binding of Isaac: Rebirth</a>,\n",
              " <a class=\"gameLink\" href=\"https://store.steampowered.com/app/374320/DARK_SOULS_III/\" onmouseout=\"HideGameHover( this, event, 'global_hover' )\" onmouseover=\"GameHover( this, event, 'global_hover', {&quot;type&quot;:&quot;app&quot;,&quot;id&quot;:374320,&quot;public&quot;:1,&quot;v6&quot;:1} );\">DARK SOULS™ III</a>,\n",
              " <a class=\"gameLink\" href=\"https://store.steampowered.com/app/10/CounterStrike/\" onmouseout=\"HideGameHover( this, event, 'global_hover' )\" onmouseover=\"GameHover( this, event, 'global_hover', {&quot;type&quot;:&quot;app&quot;,&quot;id&quot;:10,&quot;public&quot;:1,&quot;v6&quot;:1} );\">Counter-Strike</a>,\n",
              " <a class=\"gameLink\" href=\"https://store.steampowered.com/app/601510/YuGiOh_Duel_Links/\" onmouseout=\"HideGameHover( this, event, 'global_hover' )\" onmouseover=\"GameHover( this, event, 'global_hover', {&quot;type&quot;:&quot;app&quot;,&quot;id&quot;:601510,&quot;public&quot;:1,&quot;v6&quot;:1} );\">Yu-Gi-Oh! Duel Links</a>,\n",
              " <a class=\"gameLink\" href=\"https://store.steampowered.com/app/242760/The_Forest/\" onmouseout=\"HideGameHover( this, event, 'global_hover' )\" onmouseover=\"GameHover( this, event, 'global_hover', {&quot;type&quot;:&quot;app&quot;,&quot;id&quot;:242760,&quot;public&quot;:1,&quot;v6&quot;:1} );\">The Forest</a>,\n",
              " <a class=\"gameLink\" href=\"https://store.steampowered.com/app/632360/Risk_of_Rain_2/\" onmouseout=\"HideGameHover( this, event, 'global_hover' )\" onmouseover=\"GameHover( this, event, 'global_hover', {&quot;type&quot;:&quot;app&quot;,&quot;id&quot;:632360,&quot;public&quot;:1,&quot;v6&quot;:1} );\">Risk of Rain 2</a>,\n",
              " <a class=\"gameLink\" href=\"https://store.steampowered.com/app/526870/Satisfactory/\" onmouseout=\"HideGameHover( this, event, 'global_hover' )\" onmouseover=\"GameHover( this, event, 'global_hover', {&quot;type&quot;:&quot;app&quot;,&quot;id&quot;:526870,&quot;public&quot;:1,&quot;v6&quot;:1} );\">Satisfactory</a>,\n",
              " <a class=\"gameLink\" href=\"https://store.steampowered.com/app/1091500/Cyberpunk_2077/\" onmouseout=\"HideGameHover( this, event, 'global_hover' )\" onmouseover=\"GameHover( this, event, 'global_hover', {&quot;type&quot;:&quot;app&quot;,&quot;id&quot;:1091500,&quot;public&quot;:1,&quot;v6&quot;:1} );\">Cyberpunk 2077</a>,\n",
              " <a class=\"gameLink\" href=\"https://store.steampowered.com/app/898750/Super_Robot_Wars_30/\" onmouseout=\"HideGameHover( this, event, 'global_hover' )\" onmouseover=\"GameHover( this, event, 'global_hover', {&quot;type&quot;:&quot;app&quot;,&quot;id&quot;:898750,&quot;public&quot;:1,&quot;v6&quot;:1} );\">Super Robot Wars 30</a>,\n",
              " <a class=\"gameLink\" href=\"https://store.steampowered.com/app/552990/World_of_Warships/\" onmouseout=\"HideGameHover( this, event, 'global_hover' )\" onmouseover=\"GameHover( this, event, 'global_hover', {&quot;type&quot;:&quot;app&quot;,&quot;id&quot;:552990,&quot;public&quot;:1,&quot;v6&quot;:1} );\">World of Warships</a>,\n",
              " <a class=\"gameLink\" href=\"https://store.steampowered.com/app/427520/Factorio/\" onmouseout=\"HideGameHover( this, event, 'global_hover' )\" onmouseover=\"GameHover( this, event, 'global_hover', {&quot;type&quot;:&quot;app&quot;,&quot;id&quot;:427520,&quot;public&quot;:1,&quot;v6&quot;:1} );\">Factorio</a>,\n",
              " <a class=\"gameLink\" href=\"https://store.steampowered.com/app/1158310/Crusader_Kings_III/\" onmouseout=\"HideGameHover( this, event, 'global_hover' )\" onmouseover=\"GameHover( this, event, 'global_hover', {&quot;type&quot;:&quot;app&quot;,&quot;id&quot;:1158310,&quot;public&quot;:1,&quot;v6&quot;:1} );\">Crusader Kings III</a>,\n",
              " <a class=\"gameLink\" href=\"https://steamcommunity.com/app/835570\">Conqueror's Blade</a>,\n",
              " <a class=\"gameLink\" href=\"https://store.steampowered.com/app/107410/Arma_3/\" onmouseout=\"HideGameHover( this, event, 'global_hover' )\" onmouseover=\"GameHover( this, event, 'global_hover', {&quot;type&quot;:&quot;app&quot;,&quot;id&quot;:107410,&quot;public&quot;:1,&quot;v6&quot;:1} );\">Arma 3</a>,\n",
              " <a class=\"gameLink\" href=\"https://store.steampowered.com/app/1293830/Forza_Horizon_4/\" onmouseout=\"HideGameHover( this, event, 'global_hover' )\" onmouseover=\"GameHover( this, event, 'global_hover', {&quot;type&quot;:&quot;app&quot;,&quot;id&quot;:1293830,&quot;public&quot;:1,&quot;v6&quot;:1} );\">Forza Horizon 4</a>,\n",
              " <a class=\"gameLink\" href=\"https://store.steampowered.com/app/1254120/Bless_Unleashed/\" onmouseout=\"HideGameHover( this, event, 'global_hover' )\" onmouseover=\"GameHover( this, event, 'global_hover', {&quot;type&quot;:&quot;app&quot;,&quot;id&quot;:1254120,&quot;public&quot;:1,&quot;v6&quot;:1} );\">Bless Unleashed</a>,\n",
              " <a class=\"gameLink\" href=\"https://store.steampowered.com/app/629520/Soundpad/\" onmouseout=\"HideGameHover( this, event, 'global_hover' )\" onmouseover=\"GameHover( this, event, 'global_hover', {&quot;type&quot;:&quot;app&quot;,&quot;id&quot;:629520,&quot;public&quot;:1,&quot;v6&quot;:1} );\">Soundpad</a>,\n",
              " <a class=\"gameLink\" href=\"https://store.steampowered.com/app/435150/Divinity_Original_Sin_2__Definitive_Edition/\" onmouseout=\"HideGameHover( this, event, 'global_hover' )\" onmouseover=\"GameHover( this, event, 'global_hover', {&quot;type&quot;:&quot;app&quot;,&quot;id&quot;:435150,&quot;public&quot;:1,&quot;v6&quot;:1} );\">Divinity: Original Sin 2</a>,\n",
              " <a class=\"gameLink\" href=\"https://store.steampowered.com/app/1049590/Eternal_Return/\" onmouseout=\"HideGameHover( this, event, 'global_hover' )\" onmouseover=\"GameHover( this, event, 'global_hover', {&quot;type&quot;:&quot;app&quot;,&quot;id&quot;:1049590,&quot;public&quot;:1,&quot;v6&quot;:1} );\">Eternal Return</a>,\n",
              " <a class=\"gameLink\" href=\"https://store.steampowered.com/app/1259970/eFootball_PES_2021_SEASON_UPDATE/\" onmouseout=\"HideGameHover( this, event, 'global_hover' )\" onmouseover=\"GameHover( this, event, 'global_hover', {&quot;type&quot;:&quot;app&quot;,&quot;id&quot;:1259970,&quot;public&quot;:1,&quot;v6&quot;:1} );\">eFootball PES 2021 SEASON UPDATE</a>,\n",
              " <a class=\"gameLink\" href=\"https://store.steampowered.com/app/1238840/Battlefield_1/\" onmouseout=\"HideGameHover( this, event, 'global_hover' )\" onmouseover=\"GameHover( this, event, 'global_hover', {&quot;type&quot;:&quot;app&quot;,&quot;id&quot;:1238840,&quot;public&quot;:1,&quot;v6&quot;:1} );\">Battlefield 1 ™</a>,\n",
              " <a class=\"gameLink\" href=\"https://store.steampowered.com/app/1100600/Football_Manager_2020/\" onmouseout=\"HideGameHover( this, event, 'global_hover' )\" onmouseover=\"GameHover( this, event, 'global_hover', {&quot;type&quot;:&quot;app&quot;,&quot;id&quot;:1100600,&quot;public&quot;:1,&quot;v6&quot;:1} );\">Football Manager 2020</a>,\n",
              " <a class=\"gameLink\" href=\"https://store.steampowered.com/app/440900/Conan_Exiles/\" onmouseout=\"HideGameHover( this, event, 'global_hover' )\" onmouseover=\"GameHover( this, event, 'global_hover', {&quot;type&quot;:&quot;app&quot;,&quot;id&quot;:440900,&quot;public&quot;:1,&quot;v6&quot;:1} );\">Conan Exiles</a>,\n",
              " <a class=\"gameLink\" href=\"https://store.steampowered.com/app/1151340/Fallout_76/\" onmouseout=\"HideGameHover( this, event, 'global_hover' )\" onmouseover=\"GameHover( this, event, 'global_hover', {&quot;type&quot;:&quot;app&quot;,&quot;id&quot;:1151340,&quot;public&quot;:1,&quot;v6&quot;:1} );\">Fallout 76</a>,\n",
              " <a class=\"gameLink\" href=\"https://store.steampowered.com/app/1222670/The_Sims_4/\" onmouseout=\"HideGameHover( this, event, 'global_hover' )\" onmouseover=\"GameHover( this, event, 'global_hover', {&quot;type&quot;:&quot;app&quot;,&quot;id&quot;:1222670,&quot;public&quot;:1,&quot;v6&quot;:1} );\">The Sims™ 4</a>,\n",
              " <a class=\"gameLink\" href=\"https://store.steampowered.com/app/646570/Slay_the_Spire/\" onmouseout=\"HideGameHover( this, event, 'global_hover' )\" onmouseover=\"GameHover( this, event, 'global_hover', {&quot;type&quot;:&quot;app&quot;,&quot;id&quot;:646570,&quot;public&quot;:1,&quot;v6&quot;:1} );\">Slay the Spire</a>,\n",
              " <a class=\"gameLink\" href=\"https://store.steampowered.com/app/457140/Oxygen_Not_Included/\" onmouseout=\"HideGameHover( this, event, 'global_hover' )\" onmouseover=\"GameHover( this, event, 'global_hover', {&quot;type&quot;:&quot;app&quot;,&quot;id&quot;:457140,&quot;public&quot;:1,&quot;v6&quot;:1} );\">Oxygen Not Included</a>,\n",
              " <a class=\"gameLink\" href=\"https://store.steampowered.com/app/1097150/Fall_Guys_Ultimate_Knockout/\" onmouseout=\"HideGameHover( this, event, 'global_hover' )\" onmouseover=\"GameHover( this, event, 'global_hover', {&quot;type&quot;:&quot;app&quot;,&quot;id&quot;:1097150,&quot;public&quot;:1,&quot;v6&quot;:1} );\">Fall Guys: Ultimate Knockout</a>,\n",
              " <a class=\"gameLink\" href=\"https://store.steampowered.com/app/1225330/NBA_2K21/\" onmouseout=\"HideGameHover( this, event, 'global_hover' )\" onmouseover=\"GameHover( this, event, 'global_hover', {&quot;type&quot;:&quot;app&quot;,&quot;id&quot;:1225330,&quot;public&quot;:1,&quot;v6&quot;:1} );\">NBA 2K21</a>]"
            ]
          },
          "metadata": {},
          "execution_count": 15
        }
      ]
    },
    {
      "cell_type": "code",
      "metadata": {
        "id": "rQihRTU3IYch"
      },
      "source": [
        "#Création d'une liste composée de ces liens téléchargés pour lancer le crawling web\n",
        "Gameslink = []\n",
        "for i in range (100):\n",
        "  link = (popular_game_link[i][\"href\"])\n",
        "  Gameslink.append(link)"
      ],
      "execution_count": 16,
      "outputs": []
    },
    {
      "cell_type": "code",
      "metadata": {
        "id": "ww1pBh_RIuh-",
        "colab": {
          "base_uri": "https://localhost:8080/",
          "height": 0
        },
        "outputId": "8ddc7ff0-6e18-440f-8b96-565d258cf4ff"
      },
      "source": [
        "# Création de fichiers pour enregistrer les contenus web des jeux du top 100\n",
        "jeux = []\n",
        "compteur = 0\n",
        "for link in Gameslink :\n",
        "  jeux.append(telechargerPage(link))\n",
        "  ecrireFichier(\"jeu\"+str(compteur), telechargerPage(link))\n",
        "  compteur += 1"
      ],
      "execution_count": 17,
      "outputs": [
        {
          "output_type": "stream",
          "name": "stdout",
          "text": [
            "La page web à été téléchargée avec succés !\n",
            "\n",
            "La page web à été téléchargée avec succés !\n",
            "\n",
            "l'écriture du fichier s'est déroulé sans accroc !\n",
            "La page web à été téléchargée avec succés !\n",
            "\n",
            "La page web à été téléchargée avec succés !\n",
            "\n",
            "l'écriture du fichier s'est déroulé sans accroc !\n",
            "La page web à été téléchargée avec succés !\n",
            "\n",
            "La page web à été téléchargée avec succés !\n",
            "\n",
            "l'écriture du fichier s'est déroulé sans accroc !\n",
            "La page web à été téléchargée avec succés !\n",
            "\n",
            "La page web à été téléchargée avec succés !\n",
            "\n",
            "l'écriture du fichier s'est déroulé sans accroc !\n",
            "La page web à été téléchargée avec succés !\n",
            "\n",
            "La page web à été téléchargée avec succés !\n",
            "\n",
            "l'écriture du fichier s'est déroulé sans accroc !\n",
            "La page web à été téléchargée avec succés !\n",
            "\n",
            "La page web à été téléchargée avec succés !\n",
            "\n",
            "l'écriture du fichier s'est déroulé sans accroc !\n",
            "La page web à été téléchargée avec succés !\n",
            "\n",
            "La page web à été téléchargée avec succés !\n",
            "\n",
            "l'écriture du fichier s'est déroulé sans accroc !\n",
            "La page web à été téléchargée avec succés !\n",
            "\n",
            "La page web à été téléchargée avec succés !\n",
            "\n",
            "l'écriture du fichier s'est déroulé sans accroc !\n",
            "La page web à été téléchargée avec succés !\n",
            "\n",
            "La page web à été téléchargée avec succés !\n",
            "\n",
            "l'écriture du fichier s'est déroulé sans accroc !\n",
            "La page web à été téléchargée avec succés !\n",
            "\n",
            "La page web à été téléchargée avec succés !\n",
            "\n",
            "l'écriture du fichier s'est déroulé sans accroc !\n",
            "La page web à été téléchargée avec succés !\n",
            "\n",
            "La page web à été téléchargée avec succés !\n",
            "\n",
            "l'écriture du fichier s'est déroulé sans accroc !\n",
            "La page web à été téléchargée avec succés !\n",
            "\n",
            "La page web à été téléchargée avec succés !\n",
            "\n",
            "l'écriture du fichier s'est déroulé sans accroc !\n",
            "La page web à été téléchargée avec succés !\n",
            "\n",
            "La page web à été téléchargée avec succés !\n",
            "\n",
            "l'écriture du fichier s'est déroulé sans accroc !\n",
            "La page web à été téléchargée avec succés !\n",
            "\n",
            "La page web à été téléchargée avec succés !\n",
            "\n",
            "l'écriture du fichier s'est déroulé sans accroc !\n",
            "La page web à été téléchargée avec succés !\n",
            "\n",
            "La page web à été téléchargée avec succés !\n",
            "\n",
            "l'écriture du fichier s'est déroulé sans accroc !\n",
            "La page web à été téléchargée avec succés !\n",
            "\n",
            "La page web à été téléchargée avec succés !\n",
            "\n",
            "l'écriture du fichier s'est déroulé sans accroc !\n",
            "La page web à été téléchargée avec succés !\n",
            "\n",
            "La page web à été téléchargée avec succés !\n",
            "\n",
            "l'écriture du fichier s'est déroulé sans accroc !\n",
            "La page web à été téléchargée avec succés !\n",
            "\n",
            "La page web à été téléchargée avec succés !\n",
            "\n",
            "l'écriture du fichier s'est déroulé sans accroc !\n",
            "La page web à été téléchargée avec succés !\n",
            "\n",
            "La page web à été téléchargée avec succés !\n",
            "\n",
            "l'écriture du fichier s'est déroulé sans accroc !\n",
            "La page web à été téléchargée avec succés !\n",
            "\n",
            "La page web à été téléchargée avec succés !\n",
            "\n",
            "l'écriture du fichier s'est déroulé sans accroc !\n",
            "La page web à été téléchargée avec succés !\n",
            "\n",
            "La page web à été téléchargée avec succés !\n",
            "\n",
            "l'écriture du fichier s'est déroulé sans accroc !\n",
            "La page web à été téléchargée avec succés !\n",
            "\n",
            "La page web à été téléchargée avec succés !\n",
            "\n",
            "l'écriture du fichier s'est déroulé sans accroc !\n",
            "La page web à été téléchargée avec succés !\n",
            "\n",
            "La page web à été téléchargée avec succés !\n",
            "\n",
            "l'écriture du fichier s'est déroulé sans accroc !\n",
            "La page web à été téléchargée avec succés !\n",
            "\n",
            "La page web à été téléchargée avec succés !\n",
            "\n",
            "l'écriture du fichier s'est déroulé sans accroc !\n",
            "La page web à été téléchargée avec succés !\n",
            "\n",
            "La page web à été téléchargée avec succés !\n",
            "\n",
            "l'écriture du fichier s'est déroulé sans accroc !\n",
            "La page web à été téléchargée avec succés !\n",
            "\n",
            "La page web à été téléchargée avec succés !\n",
            "\n",
            "l'écriture du fichier s'est déroulé sans accroc !\n",
            "La page web à été téléchargée avec succés !\n",
            "\n",
            "La page web à été téléchargée avec succés !\n",
            "\n",
            "l'écriture du fichier s'est déroulé sans accroc !\n",
            "La page web à été téléchargée avec succés !\n",
            "\n",
            "La page web à été téléchargée avec succés !\n",
            "\n",
            "l'écriture du fichier s'est déroulé sans accroc !\n",
            "La page web à été téléchargée avec succés !\n",
            "\n",
            "La page web à été téléchargée avec succés !\n",
            "\n",
            "l'écriture du fichier s'est déroulé sans accroc !\n",
            "La page web à été téléchargée avec succés !\n",
            "\n",
            "La page web à été téléchargée avec succés !\n",
            "\n",
            "l'écriture du fichier s'est déroulé sans accroc !\n",
            "La page web à été téléchargée avec succés !\n",
            "\n",
            "La page web à été téléchargée avec succés !\n",
            "\n",
            "l'écriture du fichier s'est déroulé sans accroc !\n",
            "La page web à été téléchargée avec succés !\n",
            "\n",
            "La page web à été téléchargée avec succés !\n",
            "\n",
            "l'écriture du fichier s'est déroulé sans accroc !\n",
            "La page web à été téléchargée avec succés !\n",
            "\n",
            "La page web à été téléchargée avec succés !\n",
            "\n",
            "l'écriture du fichier s'est déroulé sans accroc !\n",
            "La page web à été téléchargée avec succés !\n",
            "\n",
            "La page web à été téléchargée avec succés !\n",
            "\n",
            "l'écriture du fichier s'est déroulé sans accroc !\n",
            "La page web à été téléchargée avec succés !\n",
            "\n",
            "La page web à été téléchargée avec succés !\n",
            "\n",
            "l'écriture du fichier s'est déroulé sans accroc !\n",
            "La page web à été téléchargée avec succés !\n",
            "\n",
            "La page web à été téléchargée avec succés !\n",
            "\n",
            "l'écriture du fichier s'est déroulé sans accroc !\n",
            "La page web à été téléchargée avec succés !\n",
            "\n",
            "La page web à été téléchargée avec succés !\n",
            "\n",
            "l'écriture du fichier s'est déroulé sans accroc !\n",
            "La page web à été téléchargée avec succés !\n",
            "\n",
            "La page web à été téléchargée avec succés !\n",
            "\n",
            "l'écriture du fichier s'est déroulé sans accroc !\n",
            "La page web à été téléchargée avec succés !\n",
            "\n",
            "La page web à été téléchargée avec succés !\n",
            "\n",
            "l'écriture du fichier s'est déroulé sans accroc !\n",
            "La page web à été téléchargée avec succés !\n",
            "\n",
            "La page web à été téléchargée avec succés !\n",
            "\n",
            "l'écriture du fichier s'est déroulé sans accroc !\n",
            "La page web à été téléchargée avec succés !\n",
            "\n",
            "La page web à été téléchargée avec succés !\n",
            "\n",
            "l'écriture du fichier s'est déroulé sans accroc !\n",
            "La page web à été téléchargée avec succés !\n",
            "\n",
            "La page web à été téléchargée avec succés !\n",
            "\n",
            "l'écriture du fichier s'est déroulé sans accroc !\n",
            "La page web à été téléchargée avec succés !\n",
            "\n",
            "La page web à été téléchargée avec succés !\n",
            "\n",
            "l'écriture du fichier s'est déroulé sans accroc !\n",
            "La page web à été téléchargée avec succés !\n",
            "\n",
            "La page web à été téléchargée avec succés !\n",
            "\n",
            "l'écriture du fichier s'est déroulé sans accroc !\n",
            "La page web à été téléchargée avec succés !\n",
            "\n",
            "La page web à été téléchargée avec succés !\n",
            "\n",
            "l'écriture du fichier s'est déroulé sans accroc !\n",
            "La page web à été téléchargée avec succés !\n",
            "\n",
            "La page web à été téléchargée avec succés !\n",
            "\n",
            "l'écriture du fichier s'est déroulé sans accroc !\n",
            "La page web à été téléchargée avec succés !\n",
            "\n",
            "La page web à été téléchargée avec succés !\n",
            "\n",
            "l'écriture du fichier s'est déroulé sans accroc !\n",
            "La page web à été téléchargée avec succés !\n",
            "\n",
            "La page web à été téléchargée avec succés !\n",
            "\n",
            "l'écriture du fichier s'est déroulé sans accroc !\n",
            "La page web à été téléchargée avec succés !\n",
            "\n",
            "La page web à été téléchargée avec succés !\n",
            "\n",
            "l'écriture du fichier s'est déroulé sans accroc !\n",
            "La page web à été téléchargée avec succés !\n",
            "\n",
            "La page web à été téléchargée avec succés !\n",
            "\n",
            "l'écriture du fichier s'est déroulé sans accroc !\n",
            "La page web à été téléchargée avec succés !\n",
            "\n",
            "La page web à été téléchargée avec succés !\n",
            "\n",
            "l'écriture du fichier s'est déroulé sans accroc !\n",
            "La page web à été téléchargée avec succés !\n",
            "\n",
            "La page web à été téléchargée avec succés !\n",
            "\n",
            "l'écriture du fichier s'est déroulé sans accroc !\n",
            "La page web à été téléchargée avec succés !\n",
            "\n",
            "La page web à été téléchargée avec succés !\n",
            "\n",
            "l'écriture du fichier s'est déroulé sans accroc !\n",
            "La page web à été téléchargée avec succés !\n",
            "\n",
            "La page web à été téléchargée avec succés !\n",
            "\n",
            "l'écriture du fichier s'est déroulé sans accroc !\n",
            "La page web à été téléchargée avec succés !\n",
            "\n",
            "La page web à été téléchargée avec succés !\n",
            "\n",
            "l'écriture du fichier s'est déroulé sans accroc !\n",
            "La page web à été téléchargée avec succés !\n",
            "\n",
            "La page web à été téléchargée avec succés !\n",
            "\n",
            "l'écriture du fichier s'est déroulé sans accroc !\n",
            "La page web à été téléchargée avec succés !\n",
            "\n",
            "La page web à été téléchargée avec succés !\n",
            "\n",
            "l'écriture du fichier s'est déroulé sans accroc !\n",
            "La page web à été téléchargée avec succés !\n",
            "\n",
            "La page web à été téléchargée avec succés !\n",
            "\n",
            "l'écriture du fichier s'est déroulé sans accroc !\n",
            "La page web à été téléchargée avec succés !\n",
            "\n",
            "La page web à été téléchargée avec succés !\n",
            "\n",
            "l'écriture du fichier s'est déroulé sans accroc !\n",
            "La page web à été téléchargée avec succés !\n",
            "\n",
            "La page web à été téléchargée avec succés !\n",
            "\n",
            "l'écriture du fichier s'est déroulé sans accroc !\n",
            "La page web à été téléchargée avec succés !\n",
            "\n",
            "La page web à été téléchargée avec succés !\n",
            "\n",
            "l'écriture du fichier s'est déroulé sans accroc !\n",
            "La page web à été téléchargée avec succés !\n",
            "\n",
            "La page web à été téléchargée avec succés !\n",
            "\n",
            "l'écriture du fichier s'est déroulé sans accroc !\n",
            "La page web à été téléchargée avec succés !\n",
            "\n",
            "La page web à été téléchargée avec succés !\n",
            "\n",
            "l'écriture du fichier s'est déroulé sans accroc !\n",
            "La page web à été téléchargée avec succés !\n",
            "\n",
            "La page web à été téléchargée avec succés !\n",
            "\n",
            "l'écriture du fichier s'est déroulé sans accroc !\n",
            "La page web à été téléchargée avec succés !\n",
            "\n",
            "La page web à été téléchargée avec succés !\n",
            "\n",
            "l'écriture du fichier s'est déroulé sans accroc !\n",
            "La page web à été téléchargée avec succés !\n",
            "\n",
            "La page web à été téléchargée avec succés !\n",
            "\n",
            "l'écriture du fichier s'est déroulé sans accroc !\n",
            "La page web à été téléchargée avec succés !\n",
            "\n",
            "La page web à été téléchargée avec succés !\n",
            "\n",
            "l'écriture du fichier s'est déroulé sans accroc !\n",
            "La page web à été téléchargée avec succés !\n",
            "\n",
            "La page web à été téléchargée avec succés !\n",
            "\n",
            "l'écriture du fichier s'est déroulé sans accroc !\n",
            "La page web à été téléchargée avec succés !\n",
            "\n",
            "La page web à été téléchargée avec succés !\n",
            "\n",
            "l'écriture du fichier s'est déroulé sans accroc !\n",
            "La page web à été téléchargée avec succés !\n",
            "\n",
            "La page web à été téléchargée avec succés !\n",
            "\n",
            "l'écriture du fichier s'est déroulé sans accroc !\n",
            "La page web à été téléchargée avec succés !\n",
            "\n",
            "La page web à été téléchargée avec succés !\n",
            "\n",
            "l'écriture du fichier s'est déroulé sans accroc !\n",
            "La page web à été téléchargée avec succés !\n",
            "\n",
            "La page web à été téléchargée avec succés !\n",
            "\n",
            "l'écriture du fichier s'est déroulé sans accroc !\n",
            "La page web à été téléchargée avec succés !\n",
            "\n",
            "La page web à été téléchargée avec succés !\n",
            "\n",
            "l'écriture du fichier s'est déroulé sans accroc !\n",
            "La page web à été téléchargée avec succés !\n",
            "\n",
            "La page web à été téléchargée avec succés !\n",
            "\n",
            "l'écriture du fichier s'est déroulé sans accroc !\n",
            "La page web à été téléchargée avec succés !\n",
            "\n",
            "La page web à été téléchargée avec succés !\n",
            "\n",
            "l'écriture du fichier s'est déroulé sans accroc !\n",
            "La page web à été téléchargée avec succés !\n",
            "\n",
            "La page web à été téléchargée avec succés !\n",
            "\n",
            "l'écriture du fichier s'est déroulé sans accroc !\n",
            "La page web à été téléchargée avec succés !\n",
            "\n",
            "La page web à été téléchargée avec succés !\n",
            "\n",
            "l'écriture du fichier s'est déroulé sans accroc !\n",
            "La page web à été téléchargée avec succés !\n",
            "\n",
            "La page web à été téléchargée avec succés !\n",
            "\n",
            "l'écriture du fichier s'est déroulé sans accroc !\n",
            "La page web à été téléchargée avec succés !\n",
            "\n",
            "La page web à été téléchargée avec succés !\n",
            "\n",
            "l'écriture du fichier s'est déroulé sans accroc !\n",
            "La page web à été téléchargée avec succés !\n",
            "\n",
            "La page web à été téléchargée avec succés !\n",
            "\n",
            "l'écriture du fichier s'est déroulé sans accroc !\n",
            "La page web à été téléchargée avec succés !\n",
            "\n",
            "La page web à été téléchargée avec succés !\n",
            "\n",
            "l'écriture du fichier s'est déroulé sans accroc !\n",
            "La page web à été téléchargée avec succés !\n",
            "\n",
            "La page web à été téléchargée avec succés !\n",
            "\n",
            "l'écriture du fichier s'est déroulé sans accroc !\n",
            "La page web à été téléchargée avec succés !\n",
            "\n",
            "La page web à été téléchargée avec succés !\n",
            "\n",
            "l'écriture du fichier s'est déroulé sans accroc !\n",
            "La page web à été téléchargée avec succés !\n",
            "\n",
            "La page web à été téléchargée avec succés !\n",
            "\n",
            "l'écriture du fichier s'est déroulé sans accroc !\n",
            "La page web à été téléchargée avec succés !\n",
            "\n",
            "La page web à été téléchargée avec succés !\n",
            "\n",
            "l'écriture du fichier s'est déroulé sans accroc !\n",
            "La page web à été téléchargée avec succés !\n",
            "\n",
            "La page web à été téléchargée avec succés !\n",
            "\n",
            "l'écriture du fichier s'est déroulé sans accroc !\n",
            "La page web à été téléchargée avec succés !\n",
            "\n",
            "La page web à été téléchargée avec succés !\n",
            "\n",
            "l'écriture du fichier s'est déroulé sans accroc !\n",
            "La page web à été téléchargée avec succés !\n",
            "\n",
            "La page web à été téléchargée avec succés !\n",
            "\n",
            "l'écriture du fichier s'est déroulé sans accroc !\n",
            "La page web à été téléchargée avec succés !\n",
            "\n",
            "La page web à été téléchargée avec succés !\n",
            "\n",
            "l'écriture du fichier s'est déroulé sans accroc !\n",
            "La page web à été téléchargée avec succés !\n",
            "\n",
            "La page web à été téléchargée avec succés !\n",
            "\n",
            "l'écriture du fichier s'est déroulé sans accroc !\n",
            "La page web à été téléchargée avec succés !\n",
            "\n",
            "La page web à été téléchargée avec succés !\n",
            "\n",
            "l'écriture du fichier s'est déroulé sans accroc !\n",
            "La page web à été téléchargée avec succés !\n",
            "\n",
            "La page web à été téléchargée avec succés !\n",
            "\n",
            "l'écriture du fichier s'est déroulé sans accroc !\n",
            "La page web à été téléchargée avec succés !\n",
            "\n",
            "La page web à été téléchargée avec succés !\n",
            "\n",
            "l'écriture du fichier s'est déroulé sans accroc !\n",
            "La page web à été téléchargée avec succés !\n",
            "\n",
            "La page web à été téléchargée avec succés !\n",
            "\n",
            "l'écriture du fichier s'est déroulé sans accroc !\n",
            "La page web à été téléchargée avec succés !\n",
            "\n",
            "La page web à été téléchargée avec succés !\n",
            "\n",
            "l'écriture du fichier s'est déroulé sans accroc !\n",
            "La page web à été téléchargée avec succés !\n",
            "\n",
            "La page web à été téléchargée avec succés !\n",
            "\n",
            "l'écriture du fichier s'est déroulé sans accroc !\n",
            "La page web à été téléchargée avec succés !\n",
            "\n",
            "La page web à été téléchargée avec succés !\n",
            "\n",
            "l'écriture du fichier s'est déroulé sans accroc !\n",
            "La page web à été téléchargée avec succés !\n",
            "\n",
            "La page web à été téléchargée avec succés !\n",
            "\n",
            "l'écriture du fichier s'est déroulé sans accroc !\n",
            "La page web à été téléchargée avec succés !\n",
            "\n",
            "La page web à été téléchargée avec succés !\n",
            "\n",
            "l'écriture du fichier s'est déroulé sans accroc !\n",
            "La page web à été téléchargée avec succés !\n",
            "\n",
            "La page web à été téléchargée avec succés !\n",
            "\n",
            "l'écriture du fichier s'est déroulé sans accroc !\n"
          ]
        }
      ]
    },
    {
      "cell_type": "code",
      "metadata": {
        "id": "nF3H0cDNPqKe"
      },
      "source": [
        "#transformation de ces contenus en objets BeautifulSoup pour l'extraction des infos du jeu de données à constituer\n",
        "bs4_games = []\n",
        "i = 0\n",
        "for game in jeux :\n",
        " bs4_games.append( creerObjetBs4(\"jeu\"+str(i)+\".html\"))\n",
        " i += 1"
      ],
      "execution_count": 18,
      "outputs": []
    },
    {
      "cell_type": "markdown",
      "metadata": {
        "id": "xkr3i3RIP9HO"
      },
      "source": [
        "detail jeu"
      ]
    },
    {
      "cell_type": "code",
      "metadata": {
        "id": "5p0a4DmtzOJz"
      },
      "source": [
        "# consignation des infos de chaque jeu du top 100 dans un liste \n",
        "Games_detail =[]\n",
        "for i in range (100):\n",
        "  detail = bs4_games[i](id=\"genresAndManufacturer\", recusive = False)\n",
        "  Games_detail.append(BeautifulSoup(str(detail)))"
      ],
      "execution_count": 19,
      "outputs": []
    },
    {
      "cell_type": "markdown",
      "metadata": {
        "id": "WmzE7RFWuJnY"
      },
      "source": [
        "description"
      ]
    },
    {
      "cell_type": "code",
      "metadata": {
        "id": "uTS77xTgsi8p"
      },
      "source": [
        "# consignation de la description de chaque jeu du top 100 dans un liste \n",
        "Games_desc =[]\n",
        "for i in range (100):\n",
        "  desc = bs4_games[i](class_=\"game_area_description\", recusive = False)\n",
        "  Games_desc.append(BeautifulSoup(str(desc)))"
      ],
      "execution_count": 20,
      "outputs": []
    },
    {
      "cell_type": "markdown",
      "metadata": {
        "id": "CrKIsNlmuuBm"
      },
      "source": [
        "configuration"
      ]
    },
    {
      "cell_type": "code",
      "metadata": {
        "id": "jcitaB_zq7LW"
      },
      "source": [
        "# consignation des infos de la configuration minimale requise pour chaque jeu du top 100 dans un liste selon windows, mac ou linux\n",
        "syswinreq = []\n",
        "sysmacreq = []\n",
        "syslinreq = []\n",
        "for i in range (100):\n",
        "  win = bs4_games[i].find_all(\"div\",{\"data-os\":\"win\"}, recusive = False)\n",
        "  mac = bs4_games[i].find_all(\"div\",{\"data-os\":\"mac\"}, recusive = False)\n",
        "  linux = bs4_games[i].find_all(\"div\",{\"data-os\":\"linux\"}, recusive = False)\n",
        "  syswinreq.append(BeautifulSoup(str(win)))\n",
        "  sysmacreq.append(BeautifulSoup(str(mac)))\n",
        "  syslinreq.append(BeautifulSoup(str(linux)))"
      ],
      "execution_count": 21,
      "outputs": []
    },
    {
      "cell_type": "code",
      "metadata": {
        "id": "jFQyxo0ITFek"
      },
      "source": [
        "# création du jeu de données\n",
        "jeuDeDonnees = []\n",
        "par1 = []\n",
        "par2 = []\n",
        "par3 = []\n",
        "\n",
        "for i in range(100) :\n",
        "  par1.append(str(Games_detail[i].text).strip()) \n",
        "  par2.append(str(Games_desc[i].text.strip()))\n",
        "  par3.append((str(syswinreq[i].text.strip() + sysmacreq[i].text.strip() + syslinreq[i].text.strip())))\n",
        "  jeuDeDonnees.append({\"Détails\" : par1[i],\n",
        "                   \"Description\" : par2[i],\n",
        "                   \"Configuration minimale requise\" : par3[i]})\n",
        "  "
      ],
      "execution_count": 22,
      "outputs": []
    },
    {
      "cell_type": "code",
      "metadata": {
        "id": "huF8xkB96inQ"
      },
      "source": [
        "# Traitement du jeu de données avec pandas\n",
        "jeuDeDonnees = pd.DataFrame(jeuDeDonnees)"
      ],
      "execution_count": 23,
      "outputs": []
    },
    {
      "cell_type": "code",
      "metadata": {
        "id": "tbR3oeR-7JDS",
        "colab": {
          "base_uri": "https://localhost:8080/",
          "height": 255
        },
        "outputId": "d3e90435-d002-4cfb-d620-ef26e1f784a7"
      },
      "source": [
        "jeuDeDonnees.head()"
      ],
      "execution_count": 24,
      "outputs": [
        {
          "output_type": "execute_result",
          "data": {
            "text/html": [
              "<div>\n",
              "<style scoped>\n",
              "    .dataframe tbody tr th:only-of-type {\n",
              "        vertical-align: middle;\n",
              "    }\n",
              "\n",
              "    .dataframe tbody tr th {\n",
              "        vertical-align: top;\n",
              "    }\n",
              "\n",
              "    .dataframe thead th {\n",
              "        text-align: right;\n",
              "    }\n",
              "</style>\n",
              "<table border=\"1\" class=\"dataframe\">\n",
              "  <thead>\n",
              "    <tr style=\"text-align: right;\">\n",
              "      <th></th>\n",
              "      <th>Détails</th>\n",
              "      <th>Description</th>\n",
              "      <th>Configuration minimale requise</th>\n",
              "    </tr>\n",
              "  </thead>\n",
              "  <tbody>\n",
              "    <tr>\n",
              "      <th>0</th>\n",
              "      <td>[\\nTitle: Counter-Strike: Global Offensive\\nGe...</td>\n",
              "      <td>[\\nAbout This Game\\n\\t\\t\\t\\t\\t\\t\\tCounter-Stri...</td>\n",
              "      <td>[\\n\\t\\t\\t\\t\\t\\tWindows\\t\\t\\t\\t\\t, \\n\\n\\nMinimu...</td>\n",
              "    </tr>\n",
              "    <tr>\n",
              "      <th>1</th>\n",
              "      <td>[\\nTitle: Dota 2\\nGenre: Action, Free to Play,...</td>\n",
              "      <td>[\\nReviews\\n“A modern multiplayer masterpiece....</td>\n",
              "      <td>[\\n\\t\\t\\t\\t\\t\\tWindows\\t\\t\\t\\t\\t, \\n\\n\\nMinimu...</td>\n",
              "    </tr>\n",
              "    <tr>\n",
              "      <th>2</th>\n",
              "      <td>[\\nTitle: PUBG: BATTLEGROUNDS\\nGenre: Action, ...</td>\n",
              "      <td>[\\nAbout This Game\\nPUBG: BATTLEGROUNDS is a b...</td>\n",
              "      <td>[\\n\\n\\nMinimum:Requires a 64-bit processor and...</td>\n",
              "    </tr>\n",
              "    <tr>\n",
              "      <th>3</th>\n",
              "      <td>[\\nTitle: Apex Legends™\\nGenre: Action, Advent...</td>\n",
              "      <td>[\\nReviews\\n“The champion of Battle Royales.”9...</td>\n",
              "      <td>[\\n\\n\\nMinimum:Requires a 64-bit processor and...</td>\n",
              "    </tr>\n",
              "    <tr>\n",
              "      <th>4</th>\n",
              "      <td>[\\nTitle: New World\\nGenre: Action, Adventure,...</td>\n",
              "      <td>[\\nNew World -  Deluxe Edition Enter the land ...</td>\n",
              "      <td>[\\n\\n\\nMinimum:Requires a 64-bit processor and...</td>\n",
              "    </tr>\n",
              "  </tbody>\n",
              "</table>\n",
              "</div>"
            ],
            "text/plain": [
              "                                             Détails  ...                     Configuration minimale requise\n",
              "0  [\\nTitle: Counter-Strike: Global Offensive\\nGe...  ...  [\\n\\t\\t\\t\\t\\t\\tWindows\\t\\t\\t\\t\\t, \\n\\n\\nMinimu...\n",
              "1  [\\nTitle: Dota 2\\nGenre: Action, Free to Play,...  ...  [\\n\\t\\t\\t\\t\\t\\tWindows\\t\\t\\t\\t\\t, \\n\\n\\nMinimu...\n",
              "2  [\\nTitle: PUBG: BATTLEGROUNDS\\nGenre: Action, ...  ...  [\\n\\n\\nMinimum:Requires a 64-bit processor and...\n",
              "3  [\\nTitle: Apex Legends™\\nGenre: Action, Advent...  ...  [\\n\\n\\nMinimum:Requires a 64-bit processor and...\n",
              "4  [\\nTitle: New World\\nGenre: Action, Adventure,...  ...  [\\n\\n\\nMinimum:Requires a 64-bit processor and...\n",
              "\n",
              "[5 rows x 3 columns]"
            ]
          },
          "metadata": {},
          "execution_count": 24
        }
      ]
    },
    {
      "cell_type": "code",
      "metadata": {
        "id": "BUCzw4147LDs"
      },
      "source": [
        "#  fonction pour l'Elimination des caractères indésirables \n",
        "def replace_char(characters):\n",
        "  return characters.replace('\\n', '').replace('\\t', '').replace('[','').replace(']','')"
      ],
      "execution_count": 25,
      "outputs": []
    },
    {
      "cell_type": "code",
      "metadata": {
        "id": "pABBymDG7UJO"
      },
      "source": [
        "# Elimination des caractères indésirables du jeu de données \n",
        "for column in jeuDeDonnees.columns:\n",
        "  jeuDeDonnees[column] = jeuDeDonnees[column].apply(replace_char)"
      ],
      "execution_count": 26,
      "outputs": []
    },
    {
      "cell_type": "code",
      "metadata": {
        "id": "wdo9K8GT7ezg",
        "colab": {
          "base_uri": "https://localhost:8080/",
          "height": 289
        },
        "outputId": "2bbb62a5-199d-4690-838b-a72d7ecfd34b"
      },
      "source": [
        "# test d'affichage\n",
        "jeuDeDonnees.head()"
      ],
      "execution_count": 27,
      "outputs": [
        {
          "output_type": "execute_result",
          "data": {
            "text/html": [
              "<div>\n",
              "<style scoped>\n",
              "    .dataframe tbody tr th:only-of-type {\n",
              "        vertical-align: middle;\n",
              "    }\n",
              "\n",
              "    .dataframe tbody tr th {\n",
              "        vertical-align: top;\n",
              "    }\n",
              "\n",
              "    .dataframe thead th {\n",
              "        text-align: right;\n",
              "    }\n",
              "</style>\n",
              "<table border=\"1\" class=\"dataframe\">\n",
              "  <thead>\n",
              "    <tr style=\"text-align: right;\">\n",
              "      <th></th>\n",
              "      <th>Détails</th>\n",
              "      <th>Description</th>\n",
              "      <th>Configuration minimale requise</th>\n",
              "    </tr>\n",
              "  </thead>\n",
              "  <tbody>\n",
              "    <tr>\n",
              "      <th>0</th>\n",
              "      <td>Title: Counter-Strike: Global OffensiveGenre: ...</td>\n",
              "      <td>About This GameCounter-Strike: Global Offensiv...</td>\n",
              "      <td>Windows, Minimum:OS: Windows® 7/Vista/XPProces...</td>\n",
              "    </tr>\n",
              "    <tr>\n",
              "      <th>1</th>\n",
              "      <td>Title: Dota 2Genre: Action, Free to Play, Stra...</td>\n",
              "      <td>Reviews“A modern multiplayer masterpiece.”9.5/...</td>\n",
              "      <td>Windows, Minimum:OS: Windows 7 or newerProcess...</td>\n",
              "    </tr>\n",
              "    <tr>\n",
              "      <th>2</th>\n",
              "      <td>Title: PUBG: BATTLEGROUNDSGenre: Action, Adven...</td>\n",
              "      <td>About This GamePUBG: BATTLEGROUNDS is a battle...</td>\n",
              "      <td>Minimum:Requires a 64-bit processor and operat...</td>\n",
              "    </tr>\n",
              "    <tr>\n",
              "      <th>3</th>\n",
              "      <td>Title: Apex Legends™Genre: Action, Adventure, ...</td>\n",
              "      <td>Reviews“The champion of Battle Royales.”9/10 –...</td>\n",
              "      <td>Minimum:Requires a 64-bit processor and operat...</td>\n",
              "    </tr>\n",
              "    <tr>\n",
              "      <th>4</th>\n",
              "      <td>Title: New WorldGenre: Action, Adventure, Mass...</td>\n",
              "      <td>New World -  Deluxe Edition Enter the land of ...</td>\n",
              "      <td>Minimum:Requires a 64-bit processor and operat...</td>\n",
              "    </tr>\n",
              "  </tbody>\n",
              "</table>\n",
              "</div>"
            ],
            "text/plain": [
              "                                             Détails  ...                     Configuration minimale requise\n",
              "0  Title: Counter-Strike: Global OffensiveGenre: ...  ...  Windows, Minimum:OS: Windows® 7/Vista/XPProces...\n",
              "1  Title: Dota 2Genre: Action, Free to Play, Stra...  ...  Windows, Minimum:OS: Windows 7 or newerProcess...\n",
              "2  Title: PUBG: BATTLEGROUNDSGenre: Action, Adven...  ...  Minimum:Requires a 64-bit processor and operat...\n",
              "3  Title: Apex Legends™Genre: Action, Adventure, ...  ...  Minimum:Requires a 64-bit processor and operat...\n",
              "4  Title: New WorldGenre: Action, Adventure, Mass...  ...  Minimum:Requires a 64-bit processor and operat...\n",
              "\n",
              "[5 rows x 3 columns]"
            ]
          },
          "metadata": {},
          "execution_count": 27
        }
      ]
    },
    {
      "cell_type": "code",
      "metadata": {
        "id": "HBOBgQe77gll"
      },
      "source": [
        "# transformation du jeu de données en dictionnaire\n",
        "dictionnaire_data = jeuDeDonnees.to_dict()"
      ],
      "execution_count": 28,
      "outputs": []
    },
    {
      "cell_type": "code",
      "metadata": {
        "id": "ZpisS7qQO6RO"
      },
      "source": [
        "#Création d'un fichier CSV pour le jeu de données\n",
        "\n",
        "jeuDeDonnees.to_csv('Fichier.csv', index = False)"
      ],
      "execution_count": 30,
      "outputs": []
    },
    {
      "cell_type": "code",
      "metadata": {
        "id": "TzKKn80gRuq4",
        "colab": {
          "base_uri": "https://localhost:8080/",
          "height": 589
        },
        "outputId": "c9ab84be-a38c-4487-9ea3-0dc9eca472ee"
      },
      "source": [
        "pd.read_csv('Fichier.csv')"
      ],
      "execution_count": 31,
      "outputs": [
        {
          "output_type": "execute_result",
          "data": {
            "text/html": [
              "<div>\n",
              "<style scoped>\n",
              "    .dataframe tbody tr th:only-of-type {\n",
              "        vertical-align: middle;\n",
              "    }\n",
              "\n",
              "    .dataframe tbody tr th {\n",
              "        vertical-align: top;\n",
              "    }\n",
              "\n",
              "    .dataframe thead th {\n",
              "        text-align: right;\n",
              "    }\n",
              "</style>\n",
              "<table border=\"1\" class=\"dataframe\">\n",
              "  <thead>\n",
              "    <tr style=\"text-align: right;\">\n",
              "      <th></th>\n",
              "      <th>Détails</th>\n",
              "      <th>Description</th>\n",
              "      <th>Configuration minimale requise</th>\n",
              "    </tr>\n",
              "  </thead>\n",
              "  <tbody>\n",
              "    <tr>\n",
              "      <th>0</th>\n",
              "      <td>Title: Counter-Strike: Global OffensiveGenre: ...</td>\n",
              "      <td>About This GameCounter-Strike: Global Offensiv...</td>\n",
              "      <td>Windows, Minimum:OS: Windows® 7/Vista/XPProces...</td>\n",
              "    </tr>\n",
              "    <tr>\n",
              "      <th>1</th>\n",
              "      <td>Title: Dota 2Genre: Action, Free to Play, Stra...</td>\n",
              "      <td>Reviews“A modern multiplayer masterpiece.”9.5/...</td>\n",
              "      <td>Windows, Minimum:OS: Windows 7 or newerProcess...</td>\n",
              "    </tr>\n",
              "    <tr>\n",
              "      <th>2</th>\n",
              "      <td>Title: PUBG: BATTLEGROUNDSGenre: Action, Adven...</td>\n",
              "      <td>About This GamePUBG: BATTLEGROUNDS is a battle...</td>\n",
              "      <td>Minimum:Requires a 64-bit processor and operat...</td>\n",
              "    </tr>\n",
              "    <tr>\n",
              "      <th>3</th>\n",
              "      <td>Title: Apex Legends™Genre: Action, Adventure, ...</td>\n",
              "      <td>Reviews“The champion of Battle Royales.”9/10 –...</td>\n",
              "      <td>Minimum:Requires a 64-bit processor and operat...</td>\n",
              "    </tr>\n",
              "    <tr>\n",
              "      <th>4</th>\n",
              "      <td>Title: New WorldGenre: Action, Adventure, Mass...</td>\n",
              "      <td>New World -  Deluxe Edition Enter the land of ...</td>\n",
              "      <td>Minimum:Requires a 64-bit processor and operat...</td>\n",
              "    </tr>\n",
              "    <tr>\n",
              "      <th>...</th>\n",
              "      <td>...</td>\n",
              "      <td>...</td>\n",
              "      <td>...</td>\n",
              "    </tr>\n",
              "    <tr>\n",
              "      <th>95</th>\n",
              "      <td>Title: The Sims™ 4Genre: Casual, SimulationDev...</td>\n",
              "      <td>Digital Deluxe Edition Deluxe Edition includes...</td>\n",
              "      <td>Minimum:Requires a 64-bit processor and operat...</td>\n",
              "    </tr>\n",
              "    <tr>\n",
              "      <th>96</th>\n",
              "      <td>Title: Slay the SpireGenre: Indie, StrategyDev...</td>\n",
              "      <td>Reviews“The devs have taken the best of the de...</td>\n",
              "      <td>Windows, Minimum:OS: Windows XP, Vista, 7, 8/8...</td>\n",
              "    </tr>\n",
              "    <tr>\n",
              "      <th>97</th>\n",
              "      <td>Title: Oxygen Not IncludedGenre: Indie, Simula...</td>\n",
              "      <td>Language Packs , About This GameIn the space-c...</td>\n",
              "      <td>Windows, Minimum:Requires a 64-bit processor a...</td>\n",
              "    </tr>\n",
              "    <tr>\n",
              "      <th>98</th>\n",
              "      <td>Title: Fall Guys: Ultimate KnockoutGenre: Acti...</td>\n",
              "      <td>Collector's Edition Dress your Fall Guys in al...</td>\n",
              "      <td>Minimum:Requires a 64-bit processor and operat...</td>\n",
              "    </tr>\n",
              "    <tr>\n",
              "      <th>99</th>\n",
              "      <td>Title: NBA 2K21Genre: Simulation, SportsDevelo...</td>\n",
              "      <td>NBA 2K21 Mamba Forever Edition This edition in...</td>\n",
              "      <td>Minimum:OS: Windows 7 64-bit, Windows 8.1 64-b...</td>\n",
              "    </tr>\n",
              "  </tbody>\n",
              "</table>\n",
              "<p>100 rows × 3 columns</p>\n",
              "</div>"
            ],
            "text/plain": [
              "                                              Détails  ...                     Configuration minimale requise\n",
              "0   Title: Counter-Strike: Global OffensiveGenre: ...  ...  Windows, Minimum:OS: Windows® 7/Vista/XPProces...\n",
              "1   Title: Dota 2Genre: Action, Free to Play, Stra...  ...  Windows, Minimum:OS: Windows 7 or newerProcess...\n",
              "2   Title: PUBG: BATTLEGROUNDSGenre: Action, Adven...  ...  Minimum:Requires a 64-bit processor and operat...\n",
              "3   Title: Apex Legends™Genre: Action, Adventure, ...  ...  Minimum:Requires a 64-bit processor and operat...\n",
              "4   Title: New WorldGenre: Action, Adventure, Mass...  ...  Minimum:Requires a 64-bit processor and operat...\n",
              "..                                                ...  ...                                                ...\n",
              "95  Title: The Sims™ 4Genre: Casual, SimulationDev...  ...  Minimum:Requires a 64-bit processor and operat...\n",
              "96  Title: Slay the SpireGenre: Indie, StrategyDev...  ...  Windows, Minimum:OS: Windows XP, Vista, 7, 8/8...\n",
              "97  Title: Oxygen Not IncludedGenre: Indie, Simula...  ...  Windows, Minimum:Requires a 64-bit processor a...\n",
              "98  Title: Fall Guys: Ultimate KnockoutGenre: Acti...  ...  Minimum:Requires a 64-bit processor and operat...\n",
              "99  Title: NBA 2K21Genre: Simulation, SportsDevelo...  ...  Minimum:OS: Windows 7 64-bit, Windows 8.1 64-b...\n",
              "\n",
              "[100 rows x 3 columns]"
            ]
          },
          "metadata": {},
          "execution_count": 31
        }
      ]
    }
  ]
}